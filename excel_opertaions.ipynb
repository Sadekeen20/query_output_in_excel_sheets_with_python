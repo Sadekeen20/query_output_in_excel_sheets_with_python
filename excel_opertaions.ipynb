{
 "cells": [
  {
   "cell_type": "code",
   "execution_count": 6,
   "metadata": {},
   "outputs": [],
   "source": [
    "# Import necessary libraries from openpyxl\n",
    "from openpyxl import load_workbook\n",
    "from openpyxl import Workbook\n",
    "from openpyxl.utils.dataframe import dataframe_to_rows\n",
    "from openpyxl.styles import PatternFill\n",
    "\n",
    "filename='Final.xlsx'\n",
    "# Load the existing Excel workbook\n",
    "workbook = load_workbook(filename=filename, data_only=True)\n",
    "\n",
    "# Open the workbook and select the sheet named \"Sheet1\"\n",
    "sheet = workbook[\"df_data_details\"]\n",
    "\n",
    "# Copy the value from cell D2 to cell D3\n",
    "sheet[\"G2\"].value = sheet[\"E2\"].value\n",
    "\n",
    "# Perform calculations in various cells using formulas\n",
    "sheet[\"I2\"].value = \"=C3-C2\"\n",
    "\n",
    "# Set titles for the columns\n",
    "sheet[\"C1\"].value = \"DATA VOL in MB\"\n",
    "\n",
    "# Apply color formatting to certain cells\n",
    "blue_fill = PatternFill(start_color=\"0000FF\", end_color=\"0000FF\", fill_type=\"solid\")\n",
    "yellow_fill = PatternFill(start_color=\"FFFF00\", end_color=\"FFFF00\", fill_type=\"solid\")\n",
    "\n",
    "sheet[\"I2\"].fill = yellow_fill \n",
    "sheet[\"D1\"].fill = blue_fill\n",
    "\n",
    "# Save the modified workbook\n",
    "workbook.save(filename=filename)\n",
    "\n",
    "# Open the modified Excel file\n",
    "import os\n",
    "os.startfile(filename)\n"
   ]
  }
 ],
 "metadata": {
  "kernelspec": {
   "display_name": "base",
   "language": "python",
   "name": "python3"
  },
  "language_info": {
   "codemirror_mode": {
    "name": "ipython",
    "version": 3
   },
   "file_extension": ".py",
   "mimetype": "text/x-python",
   "name": "python",
   "nbconvert_exporter": "python",
   "pygments_lexer": "ipython3",
   "version": "3.8.8"
  },
  "orig_nbformat": 4
 },
 "nbformat": 4,
 "nbformat_minor": 2
}
